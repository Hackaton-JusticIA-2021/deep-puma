{
  "nbformat": 4,
  "nbformat_minor": 0,
  "metadata": {
    "colab": {
      "name": "Evaluacion.ipynb",
      "provenance": [],
      "collapsed_sections": [],
      "authorship_tag": "ABX9TyPGy9Ex0y+gbDSmJK/SMte9",
      "include_colab_link": true
    },
    "kernelspec": {
      "name": "python3",
      "display_name": "Python 3"
    },
    "language_info": {
      "name": "python"
    }
  },
  "cells": [
    {
      "cell_type": "markdown",
      "metadata": {
        "id": "view-in-github",
        "colab_type": "text"
      },
      "source": [
        "<a href=\"https://colab.research.google.com/github/milmor/deep-puma/blob/main/Image-preprocessing/Evaluacion.ipynb\" target=\"_parent\"><img src=\"https://colab.research.google.com/assets/colab-badge.svg\" alt=\"Open In Colab\"/></a>"
      ]
    },
    {
      "cell_type": "markdown",
      "metadata": {
        "id": "W3mFi04XeC3U"
      },
      "source": [
        "# Evaluación del rendimiento del OCR"
      ]
    },
    {
      "cell_type": "markdown",
      "metadata": {
        "id": "2nhq5xrRiZbU"
      },
      "source": [
        "### Acceso a Drive"
      ]
    },
    {
      "cell_type": "code",
      "metadata": {
        "id": "a_am-PO-iYnj"
      },
      "source": [
        "from google.colab import drive\n",
        "drive.mount('/content/drive')"
      ],
      "execution_count": null,
      "outputs": []
    },
    {
      "cell_type": "markdown",
      "metadata": {
        "id": "5PdID2K0e-J5"
      },
      "source": [
        "### Bibliotecas"
      ]
    },
    {
      "cell_type": "code",
      "metadata": {
        "id": "V_R3cotTfBDp"
      },
      "source": [
        "!pip install datasets\n",
        "!pip install jiwer jiwer"
      ],
      "execution_count": null,
      "outputs": []
    },
    {
      "cell_type": "code",
      "metadata": {
        "id": "6u-GdAeKeDpD"
      },
      "source": [
        "from datasets import load_metric\n",
        "import pandas as pd"
      ],
      "execution_count": null,
      "outputs": []
    },
    {
      "cell_type": "markdown",
      "metadata": {
        "id": "ysm3TipSgPoK"
      },
      "source": [
        "### Character Error Rate (CER)\n",
        "$$CER = \\frac{S + D + I}{N} = \\frac{S + D + I}{S + D + C}$$\n",
        "\n",
        "Donde:\n",
        "\n",
        "* S: número de sustituciones.\n",
        "* D: Número de eliminaciones.\n",
        "* I: Número de inserciones.\n",
        "* N: Número de caracteres en la referencia.\n",
        "* C: Número correcto de caracteres.\n"
      ]
    },
    {
      "cell_type": "code",
      "metadata": {
        "id": "7fwW3JJWeDrN"
      },
      "source": [
        "cer = load_metric('cer')"
      ],
      "execution_count": null,
      "outputs": []
    },
    {
      "cell_type": "markdown",
      "metadata": {
        "id": "OxH4_3vwsgE5"
      },
      "source": [
        "### Word Error Rate (WER)\n",
        "\n",
        "$$ WER = \\frac{S + D + I}{N} = \\frac{S + D + I}{S + D + C} $$\n",
        "\n",
        "Donde:\n",
        "\n",
        "* S: número de sustituciones.\n",
        "* D: Número de eliminaciones.\n",
        "* I: Número de inserciones.\n",
        "* N: Número de caracteres en la referencia.\n",
        "* C: Número correcto de caracteres."
      ]
    },
    {
      "cell_type": "code",
      "metadata": {
        "id": "DWUVmS8F4jn6"
      },
      "source": [
        "wer = load_metric('wer')"
      ],
      "execution_count": null,
      "outputs": []
    },
    {
      "cell_type": "code",
      "metadata": {
        "id": "ELpDhc4tp1y6"
      },
      "source": [
        "def get_prediction_text(path):\n",
        "  text = open(path,'r').read()\n",
        "  return text"
      ],
      "execution_count": null,
      "outputs": []
    },
    {
      "cell_type": "code",
      "metadata": {
        "id": "emrMXzYLoRLd"
      },
      "source": [
        "def get_ocr_evaluation(outputs_path, files_info, references, metric):\n",
        "  filenames = [f.split('.')[0]  for f in files_info]\n",
        "  predictions = [get_prediction_text('{}{}_text.txt'.format(outputs_path,fn)) for fn in filenames]\n",
        "  cer_score = metric.compute(predictions=predictions, references=references)\n",
        "  return cer_score"
      ],
      "execution_count": null,
      "outputs": []
    },
    {
      "cell_type": "markdown",
      "metadata": {
        "id": "FvPPp7hImoGt"
      },
      "source": [
        "### Lectura de datos"
      ]
    },
    {
      "cell_type": "code",
      "metadata": {
        "id": "kHsGq2TzeD74"
      },
      "source": [
        "TRANSCRIPTIONS_PATH = 'drive/MyDrive/Datos - Hackathon JusticIA/JusticIA_DatosTranscripciones.csv'"
      ],
      "execution_count": null,
      "outputs": []
    },
    {
      "cell_type": "code",
      "metadata": {
        "id": "5h9vuu0Ed_b2"
      },
      "source": [
        "transcriptions_df = pd.read_csv(TRANSCRIPTIONS_PATH)"
      ],
      "execution_count": null,
      "outputs": []
    },
    {
      "cell_type": "markdown",
      "metadata": {
        "id": "iaAQT2Es82Bj"
      },
      "source": [
        "### Evaluación de Fichas_manual"
      ]
    },
    {
      "cell_type": "code",
      "metadata": {
        "id": "nQ949mB95aOC"
      },
      "source": [
        "manual_df = transcriptions_df[(transcriptions_df['Conjunto']== 'Fichas_manual')]"
      ],
      "execution_count": null,
      "outputs": []
    },
    {
      "cell_type": "code",
      "metadata": {
        "id": "D9bJOIDkoRIi"
      },
      "source": [
        "files_info = manual_df['NombreArchivo']\n",
        "references = manual_df['Texto']"
      ],
      "execution_count": null,
      "outputs": []
    },
    {
      "cell_type": "code",
      "metadata": {
        "id": "8L9QPA7Y9GV2"
      },
      "source": [
        "cer_manual = get_ocr_evaluation(outputs_path='drive/MyDrive/HackathonRIIAA2021/Texts/Fichas_manual/', \n",
        "                                files_info=files_info, \n",
        "                                references=references, \n",
        "                                metric=cer)"
      ],
      "execution_count": null,
      "outputs": []
    },
    {
      "cell_type": "code",
      "metadata": {
        "id": "dDyrjq7m9nrt"
      },
      "source": [
        "wer_manual = get_ocr_evaluation(outputs_path='drive/MyDrive/HackathonRIIAA2021/Texts/Fichas_manual/', \n",
        "                                files_info=files_info, \n",
        "                                references=references, \n",
        "                                metric=wer)"
      ],
      "execution_count": null,
      "outputs": []
    },
    {
      "cell_type": "code",
      "metadata": {
        "id": "-FWwca-z-CLY"
      },
      "source": [
        "print('Evaluación directorio Fichas_manual:\\nCER = {}\\nWER={}'.format(cer_manual, wer_manual))"
      ],
      "execution_count": null,
      "outputs": []
    },
    {
      "cell_type": "markdown",
      "metadata": {
        "id": "GuX44XJT88O_"
      },
      "source": [
        "### Evaluación de Fichas_auto"
      ]
    },
    {
      "cell_type": "code",
      "metadata": {
        "id": "NOXQ85bV8Hm7"
      },
      "source": [
        "auto_df = transcriptions_df[(transcriptions_df['Conjunto']== 'Fichas_auto')]"
      ],
      "execution_count": null,
      "outputs": []
    },
    {
      "cell_type": "code",
      "metadata": {
        "id": "d6QDTq_SoROB"
      },
      "source": [
        "files_info = auto_df['NombreArchivo']\n",
        "references = auto_df['Texto']"
      ],
      "execution_count": null,
      "outputs": []
    },
    {
      "cell_type": "code",
      "metadata": {
        "id": "0zmJXxSmoRQb"
      },
      "source": [
        "cer_auto = get_ocr_evaluation(outputs_path='drive/MyDrive/HackathonRIIAA2021/Texts/Fichas_auto/', \n",
        "                                files_info=files_info, \n",
        "                                references=references, \n",
        "                                metric=cer)"
      ],
      "execution_count": null,
      "outputs": []
    },
    {
      "cell_type": "code",
      "metadata": {
        "id": "RLAmiKD_oRSs"
      },
      "source": [
        "wer_auto = get_ocr_evaluation(outputs_path='drive/MyDrive/HackathonRIIAA2021/Texts/Fichas_auto/', \n",
        "                                files_info=files_info, \n",
        "                                references=references, \n",
        "                                metric=wer)"
      ],
      "execution_count": null,
      "outputs": []
    },
    {
      "cell_type": "code",
      "metadata": {
        "id": "6fwgDsP6oRVS"
      },
      "source": [
        "print('Evaluación directorio Fichas_auto:\\nCER = {}\\nWER={}'.format(cer_auto, wer_auto))"
      ],
      "execution_count": null,
      "outputs": []
    },
    {
      "cell_type": "code",
      "metadata": {
        "id": "_FbTn-eLoRXt"
      },
      "source": [
        ""
      ],
      "execution_count": null,
      "outputs": []
    },
    {
      "cell_type": "code",
      "metadata": {
        "id": "WfhXo63noRZ3"
      },
      "source": [
        ""
      ],
      "execution_count": null,
      "outputs": []
    }
  ]
}