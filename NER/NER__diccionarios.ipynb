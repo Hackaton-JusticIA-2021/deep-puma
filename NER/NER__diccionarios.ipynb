{
  "nbformat": 4,
  "nbformat_minor": 0,
  "metadata": {
    "colab": {
      "name": "NER _diccionarios",
      "provenance": [],
      "collapsed_sections": []
    },
    "kernelspec": {
      "name": "python3",
      "display_name": "Python 3"
    },
    "language_info": {
      "name": "python"
    }
  },
  "cells": [
    {
      "cell_type": "code",
      "metadata": {
        "id": "xlNdXzW83Lvp"
      },
      "source": [
        "#Paqueterias\n",
        "import re\n",
        "import unicodedata\n",
        "from nltk import ngrams\n",
        "import pandas as pd\n",
        "from fuzzywuzzy import fuzz"
      ],
      "execution_count": null,
      "outputs": []
    },
    {
      "cell_type": "code",
      "metadata": {
        "id": "_yy9P-HTihGV"
      },
      "source": [
        "from google.colab import drive\n",
        "drive.mount('/content/drive')"
      ],
      "execution_count": null,
      "outputs": []
    },
    {
      "cell_type": "code",
      "metadata": {
        "id": "P_FZS6V55s1t"
      },
      "source": [
        "#Carga de datos\n",
        "from glob import glob\n",
        "in_dir = '/content/drive/MyDrive/HackathonRIIAA2021/TextData'\n",
        "files = glob(in_dir+'/*.txt')\n",
        "notas=[]\n",
        "for file in files:\n",
        "  f=open(file,'r')\n",
        "  texto=f.read()\n",
        "  notas.append(texto)\n",
        "  f.close()"
      ],
      "execution_count": 4,
      "outputs": []
    },
    {
      "cell_type": "code",
      "metadata": {
        "id": "NUBd6thZY5Vn"
      },
      "source": [
        "# Quita acentos\n",
        "def quitar_acentos(text):\n",
        "  try:\n",
        "    text = unicode(text, 'utf-8')\n",
        "  except (TypeError, NameError): \n",
        "    pass\n",
        "  text = unicodedata.normalize('NFD', text)\n",
        "  text = text.encode('ascii', 'ignore')\n",
        "  text = text.decode(\"utf-8\")\n",
        "  return str(text)"
      ],
      "execution_count": 6,
      "outputs": []
    },
    {
      "cell_type": "code",
      "metadata": {
        "id": "y2DKbMGMPc1d"
      },
      "source": [
        "def encontrar(palabras, text,label):\n",
        "  copia = text.lower()\n",
        "  copia = re.sub(r'[^\\w\\s]','',copia)\n",
        "  copia = quitar_acentos(copia)\n",
        "  entidades=[]\n",
        "  for palabra in palabras:\n",
        "    if palabra in copia:\n",
        "      entidades.append((palabra,label))\n",
        "      break\n",
        "    num=len(palabra.split(' '))+1\n",
        "    grams = ngrams(copia.split(' '), num)\n",
        "    for gram in grams:\n",
        "      cadena=' '.join(gram)\n",
        "      if fuzz.ratio(palabra,cadena)>90:\n",
        "        entidades.append((cadena,label))\n",
        "  return entidades         "
      ],
      "execution_count": 7,
      "outputs": []
    },
    {
      "cell_type": "code",
      "metadata": {
        "id": "so7RXiABWqKL"
      },
      "source": [
        "nombres = pd.read_csv('/content/drive/MyDrive/Datos - Hackathon JusticIA/civilservants.csv', error_bad_lines=False)\n",
        "organizaciones = pd.read_csv('/content/drive/MyDrive/Datos - Hackathon JusticIA/organizations.csv', error_bad_lines=False)"
      ],
      "execution_count": null,
      "outputs": []
    },
    {
      "cell_type": "code",
      "metadata": {
        "id": "O10k7XW-V5R5"
      },
      "source": [
        "wiki=[]\n",
        "nu=1\n",
        "for nota in notas:\n",
        "  wiki_=[] \n",
        "  wiki_.extend(encontrar(nombres['CIVILSERVANTS '], nota, 'PER'))\n",
        "  wiki_.extend(encontrar(organizaciones['ORGANIZATIONS '], nota, 'ORG'))\n",
        "  wiki.append((nota,{'entities':wiki_}))\n",
        "  print(nu)\n",
        "  nu=nu+1"
      ],
      "execution_count": null,
      "outputs": []
    }
  ]
}