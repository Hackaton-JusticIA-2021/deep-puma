{
  "nbformat": 4,
  "nbformat_minor": 0,
  "metadata": {
    "colab": {
      "name": "NER _diccionarios",
      "provenance": [],
      "collapsed_sections": []
    },
    "kernelspec": {
      "name": "python3",
      "display_name": "Python 3"
    },
    "language_info": {
      "name": "python"
    }
  },
  "cells": [
    {
      "cell_type": "code",
      "metadata": {
        "id": "xlNdXzW83Lvp",
        "colab": {
          "base_uri": "https://localhost:8080/"
        },
        "outputId": "befa38d4-602b-4fb0-eb9d-d43436623b6c"
      },
      "source": [
        "#Paqueterias\n",
        "import re\n",
        "import unicodedata\n",
        "from nltk import ngrams\n",
        "import pandas as pd\n",
        "from fuzzywuzzy import fuzz"
      ],
      "execution_count": 2,
      "outputs": [
        {
          "output_type": "stream",
          "text": [
            "/usr/local/lib/python3.7/dist-packages/fuzzywuzzy/fuzz.py:11: UserWarning: Using slow pure-python SequenceMatcher. Install python-Levenshtein to remove this warning\n",
            "  warnings.warn('Using slow pure-python SequenceMatcher. Install python-Levenshtein to remove this warning')\n"
          ],
          "name": "stderr"
        }
      ]
    },
    {
      "cell_type": "code",
      "metadata": {
        "colab": {
          "base_uri": "https://localhost:8080/"
        },
        "id": "p64XsHd3Sqse",
        "outputId": "3d5ab7f0-68b2-432a-f15b-f4529a50fccc"
      },
      "source": [
        "!pip install fuzzywuzzy"
      ],
      "execution_count": 1,
      "outputs": [
        {
          "output_type": "stream",
          "text": [
            "Collecting fuzzywuzzy\n",
            "  Downloading fuzzywuzzy-0.18.0-py2.py3-none-any.whl (18 kB)\n",
            "Installing collected packages: fuzzywuzzy\n",
            "Successfully installed fuzzywuzzy-0.18.0\n"
          ],
          "name": "stdout"
        }
      ]
    },
    {
      "cell_type": "code",
      "metadata": {
        "colab": {
          "base_uri": "https://localhost:8080/"
        },
        "id": "Nk74rjx7YUNY",
        "outputId": "a0a8cee5-6c0f-4a80-a11f-c6b07b144fa1"
      },
      "source": [
        "!python -m spacy download es_core_news_sm"
      ],
      "execution_count": null,
      "outputs": [
        {
          "output_type": "stream",
          "text": [
            "Collecting es_core_news_sm==2.2.5\n",
            "  Downloading https://github.com/explosion/spacy-models/releases/download/es_core_news_sm-2.2.5/es_core_news_sm-2.2.5.tar.gz (16.2 MB)\n",
            "\u001b[K     |████████████████████████████████| 16.2 MB 6.7 MB/s \n",
            "\u001b[?25hRequirement already satisfied: spacy>=2.2.2 in /usr/local/lib/python3.7/dist-packages (from es_core_news_sm==2.2.5) (2.2.4)\n",
            "Requirement already satisfied: plac<1.2.0,>=0.9.6 in /usr/local/lib/python3.7/dist-packages (from spacy>=2.2.2->es_core_news_sm==2.2.5) (1.1.3)\n",
            "Requirement already satisfied: blis<0.5.0,>=0.4.0 in /usr/local/lib/python3.7/dist-packages (from spacy>=2.2.2->es_core_news_sm==2.2.5) (0.4.1)\n",
            "Requirement already satisfied: tqdm<5.0.0,>=4.38.0 in /usr/local/lib/python3.7/dist-packages (from spacy>=2.2.2->es_core_news_sm==2.2.5) (4.62.0)\n",
            "Requirement already satisfied: setuptools in /usr/local/lib/python3.7/dist-packages (from spacy>=2.2.2->es_core_news_sm==2.2.5) (57.4.0)\n",
            "Requirement already satisfied: numpy>=1.15.0 in /usr/local/lib/python3.7/dist-packages (from spacy>=2.2.2->es_core_news_sm==2.2.5) (1.19.5)\n",
            "Requirement already satisfied: murmurhash<1.1.0,>=0.28.0 in /usr/local/lib/python3.7/dist-packages (from spacy>=2.2.2->es_core_news_sm==2.2.5) (1.0.5)\n",
            "Requirement already satisfied: catalogue<1.1.0,>=0.0.7 in /usr/local/lib/python3.7/dist-packages (from spacy>=2.2.2->es_core_news_sm==2.2.5) (1.0.0)\n",
            "Requirement already satisfied: srsly<1.1.0,>=1.0.2 in /usr/local/lib/python3.7/dist-packages (from spacy>=2.2.2->es_core_news_sm==2.2.5) (1.0.5)\n",
            "Requirement already satisfied: preshed<3.1.0,>=3.0.2 in /usr/local/lib/python3.7/dist-packages (from spacy>=2.2.2->es_core_news_sm==2.2.5) (3.0.5)\n",
            "Requirement already satisfied: cymem<2.1.0,>=2.0.2 in /usr/local/lib/python3.7/dist-packages (from spacy>=2.2.2->es_core_news_sm==2.2.5) (2.0.5)\n",
            "Requirement already satisfied: thinc==7.4.0 in /usr/local/lib/python3.7/dist-packages (from spacy>=2.2.2->es_core_news_sm==2.2.5) (7.4.0)\n",
            "Requirement already satisfied: requests<3.0.0,>=2.13.0 in /usr/local/lib/python3.7/dist-packages (from spacy>=2.2.2->es_core_news_sm==2.2.5) (2.23.0)\n",
            "Requirement already satisfied: wasabi<1.1.0,>=0.4.0 in /usr/local/lib/python3.7/dist-packages (from spacy>=2.2.2->es_core_news_sm==2.2.5) (0.8.2)\n",
            "Requirement already satisfied: importlib-metadata>=0.20 in /usr/local/lib/python3.7/dist-packages (from catalogue<1.1.0,>=0.0.7->spacy>=2.2.2->es_core_news_sm==2.2.5) (4.6.4)\n",
            "Requirement already satisfied: typing-extensions>=3.6.4 in /usr/local/lib/python3.7/dist-packages (from importlib-metadata>=0.20->catalogue<1.1.0,>=0.0.7->spacy>=2.2.2->es_core_news_sm==2.2.5) (3.7.4.3)\n",
            "Requirement already satisfied: zipp>=0.5 in /usr/local/lib/python3.7/dist-packages (from importlib-metadata>=0.20->catalogue<1.1.0,>=0.0.7->spacy>=2.2.2->es_core_news_sm==2.2.5) (3.5.0)\n",
            "Requirement already satisfied: chardet<4,>=3.0.2 in /usr/local/lib/python3.7/dist-packages (from requests<3.0.0,>=2.13.0->spacy>=2.2.2->es_core_news_sm==2.2.5) (3.0.4)\n",
            "Requirement already satisfied: idna<3,>=2.5 in /usr/local/lib/python3.7/dist-packages (from requests<3.0.0,>=2.13.0->spacy>=2.2.2->es_core_news_sm==2.2.5) (2.10)\n",
            "Requirement already satisfied: certifi>=2017.4.17 in /usr/local/lib/python3.7/dist-packages (from requests<3.0.0,>=2.13.0->spacy>=2.2.2->es_core_news_sm==2.2.5) (2021.5.30)\n",
            "Requirement already satisfied: urllib3!=1.25.0,!=1.25.1,<1.26,>=1.21.1 in /usr/local/lib/python3.7/dist-packages (from requests<3.0.0,>=2.13.0->spacy>=2.2.2->es_core_news_sm==2.2.5) (1.24.3)\n",
            "\u001b[38;5;2m✔ Download and installation successful\u001b[0m\n",
            "You can now load the model via spacy.load('es_core_news_sm')\n"
          ],
          "name": "stdout"
        }
      ]
    },
    {
      "cell_type": "code",
      "metadata": {
        "colab": {
          "base_uri": "https://localhost:8080/"
        },
        "id": "_yy9P-HTihGV",
        "outputId": "d44a0d80-74ce-4368-b96f-7aeb8add6ac2"
      },
      "source": [
        "from google.colab import drive\n",
        "drive.mount('/content/drive')"
      ],
      "execution_count": 3,
      "outputs": [
        {
          "output_type": "stream",
          "text": [
            "Mounted at /content/drive\n"
          ],
          "name": "stdout"
        }
      ]
    },
    {
      "cell_type": "code",
      "metadata": {
        "id": "P_FZS6V55s1t"
      },
      "source": [
        "#Carga de datos\n",
        "from glob import glob\n",
        "in_dir = '/content/drive/MyDrive/HackathonRIIAA2021/TextData'\n",
        "files = glob(in_dir+'/*.txt')\n",
        "notas=[]\n",
        "for file in files:\n",
        "  f=open(file,'r')\n",
        "  texto=f.read()\n",
        "  notas.append(texto)\n",
        "  f.close()"
      ],
      "execution_count": 4,
      "outputs": []
    },
    {
      "cell_type": "code",
      "metadata": {
        "colab": {
          "base_uri": "https://localhost:8080/",
          "height": 102
        },
        "id": "-nOU4vLzU2QU",
        "outputId": "4fbf2a5b-65d9-44ed-8f68-263972065ced"
      },
      "source": [
        "notas[1]"
      ],
      "execution_count": 5,
      "outputs": [
        {
          "output_type": "execute_result",
          "data": {
            "application/vnd.google.colaboratory.intrinsic+json": {
              "type": "string"
            },
            "text/plain": [
              "'de distancia de la calzada de tlalpan, ahí esta-\\nblecieron contacto con el referido ramon, del que\\nignora su verdadero nombre. que jaime y ramon,-\\nal parecer procedían de algún lugar de oaxaca.-\\nque en otra reunión posterior que sostuvieron -\\nen ese departamento, el guero dio instrucciones\\nal de la voz y a ramon, para llevar a cabo el -\\nasalto a la sucursal del banco azteca que se --\\nencuentra sobre la calzada de tlalpan, dandoles-\\nademás armas de fuego, tocandole a ramon una --\\npistola calibre 38 automática.\\nexp. 11-235-75\\nh-170 l-25\\n20-feb-75.-alberto vazquez castellanos, detenido\\npor sus actividadessubversivas dentro de la l.\\nc. 23 de sep., en su declaración dijo entre otras\\ncosas, que este elemento entre otros'"
            ]
          },
          "metadata": {},
          "execution_count": 5
        }
      ]
    },
    {
      "cell_type": "code",
      "metadata": {
        "id": "NUBd6thZY5Vn"
      },
      "source": [
        "# Quita acentos\n",
        "def quitar_acentos(text):\n",
        "  try:\n",
        "    text = unicode(text, 'utf-8')\n",
        "  except (TypeError, NameError): \n",
        "    pass\n",
        "  text = unicodedata.normalize('NFD', text)\n",
        "  text = text.encode('ascii', 'ignore')\n",
        "  text = text.decode(\"utf-8\")\n",
        "  return str(text)"
      ],
      "execution_count": 6,
      "outputs": []
    },
    {
      "cell_type": "code",
      "metadata": {
        "id": "y2DKbMGMPc1d"
      },
      "source": [
        "def encontrar(palabras, text,label):\n",
        "  copia = text.lower()\n",
        "  copia = re.sub(r'[^\\w\\s]','',copia)\n",
        "  copia = quitar_acentos(copia)\n",
        "  entidades=[]\n",
        "  for palabra in palabras:\n",
        "    if palabra in copia:\n",
        "      entidades.append((palabra,label))\n",
        "      break\n",
        "    num=len(palabra.split(' '))+1\n",
        "    grams = ngrams(copia.split(' '), num)\n",
        "    for gram in grams:\n",
        "      cadena=' '.join(gram)\n",
        "      if fuzz.ratio(palabra,cadena)>90:\n",
        "        entidades.append((cadena,label))\n",
        "  return entidades         "
      ],
      "execution_count": 7,
      "outputs": []
    },
    {
      "cell_type": "code",
      "metadata": {
        "colab": {
          "base_uri": "https://localhost:8080/"
        },
        "id": "so7RXiABWqKL",
        "outputId": "47edbc7a-17b4-4051-b734-e149d121c9d6"
      },
      "source": [
        "nombres = pd.read_csv('/content/drive/MyDrive/Datos - Hackathon JusticIA/civilservants.csv', error_bad_lines=False)\n",
        "organizaciones = pd.read_csv('/content/drive/MyDrive/Datos - Hackathon JusticIA/organizations.csv', error_bad_lines=False)"
      ],
      "execution_count": 8,
      "outputs": [
        {
          "output_type": "stream",
          "text": [
            "b'Skipping line 388: expected 1 fields, saw 2\\nSkipping line 800: expected 1 fields, saw 2\\nSkipping line 889: expected 1 fields, saw 2\\nSkipping line 5084: expected 1 fields, saw 2\\nSkipping line 5281: expected 1 fields, saw 3\\nSkipping line 5354: expected 1 fields, saw 2\\nSkipping line 6223: expected 1 fields, saw 2\\nSkipping line 6648: expected 1 fields, saw 2\\nSkipping line 6907: expected 1 fields, saw 2\\nSkipping line 7282: expected 1 fields, saw 2\\nSkipping line 7766: expected 1 fields, saw 2\\nSkipping line 8098: expected 1 fields, saw 2\\n'\n",
            "b'Skipping line 90: expected 1 fields, saw 3\\nSkipping line 108: expected 1 fields, saw 10\\nSkipping line 110: expected 1 fields, saw 3\\nSkipping line 113: expected 1 fields, saw 4\\nSkipping line 127: expected 1 fields, saw 3\\nSkipping line 195: expected 1 fields, saw 5\\nSkipping line 196: expected 1 fields, saw 2\\nSkipping line 199: expected 1 fields, saw 9\\nSkipping line 206: expected 1 fields, saw 8\\nSkipping line 251: expected 1 fields, saw 2\\nSkipping line 261: expected 1 fields, saw 2\\nSkipping line 381: expected 1 fields, saw 3\\nSkipping line 384: expected 1 fields, saw 2\\nSkipping line 401: expected 1 fields, saw 2\\nSkipping line 403: expected 1 fields, saw 2\\nSkipping line 408: expected 1 fields, saw 2\\nSkipping line 426: expected 1 fields, saw 4\\nSkipping line 439: expected 1 fields, saw 2\\nSkipping line 440: expected 1 fields, saw 2\\nSkipping line 445: expected 1 fields, saw 3\\nSkipping line 446: expected 1 fields, saw 2\\nSkipping line 449: expected 1 fields, saw 2\\nSkipping line 452: expected 1 fields, saw 2\\nSkipping line 455: expected 1 fields, saw 2\\nSkipping line 460: expected 1 fields, saw 2\\nSkipping line 477: expected 1 fields, saw 4\\nSkipping line 482: expected 1 fields, saw 2\\nSkipping line 504: expected 1 fields, saw 2\\nSkipping line 562: expected 1 fields, saw 2\\nSkipping line 600: expected 1 fields, saw 2\\nSkipping line 642: expected 1 fields, saw 2\\nSkipping line 659: expected 1 fields, saw 2\\nSkipping line 660: expected 1 fields, saw 3\\nSkipping line 661: expected 1 fields, saw 3\\nSkipping line 671: expected 1 fields, saw 3\\nSkipping line 677: expected 1 fields, saw 3\\nSkipping line 686: expected 1 fields, saw 2\\nSkipping line 687: expected 1 fields, saw 2\\nSkipping line 688: expected 1 fields, saw 2\\nSkipping line 689: expected 1 fields, saw 2\\nSkipping line 693: expected 1 fields, saw 2\\nSkipping line 696: expected 1 fields, saw 2\\nSkipping line 697: expected 1 fields, saw 2\\nSkipping line 699: expected 1 fields, saw 3\\nSkipping line 715: expected 1 fields, saw 2\\nSkipping line 723: expected 1 fields, saw 3\\nSkipping line 749: expected 1 fields, saw 4\\nSkipping line 750: expected 1 fields, saw 2\\nSkipping line 755: expected 1 fields, saw 2\\nSkipping line 757: expected 1 fields, saw 3\\nSkipping line 760: expected 1 fields, saw 3\\nSkipping line 787: expected 1 fields, saw 3\\nSkipping line 810: expected 1 fields, saw 3\\nSkipping line 812: expected 1 fields, saw 3\\nSkipping line 818: expected 1 fields, saw 3\\nSkipping line 852: expected 1 fields, saw 3\\nSkipping line 864: expected 1 fields, saw 3\\nSkipping line 885: expected 1 fields, saw 2\\nSkipping line 888: expected 1 fields, saw 2\\nSkipping line 900: expected 1 fields, saw 2\\nSkipping line 901: expected 1 fields, saw 2\\nSkipping line 916: expected 1 fields, saw 4\\nSkipping line 919: expected 1 fields, saw 2\\nSkipping line 920: expected 1 fields, saw 2\\nSkipping line 922: expected 1 fields, saw 2\\nSkipping line 939: expected 1 fields, saw 2\\nSkipping line 944: expected 1 fields, saw 2\\nSkipping line 947: expected 1 fields, saw 2\\nSkipping line 950: expected 1 fields, saw 2\\nSkipping line 951: expected 1 fields, saw 2\\nSkipping line 964: expected 1 fields, saw 2\\nSkipping line 967: expected 1 fields, saw 2\\nSkipping line 970: expected 1 fields, saw 4\\nSkipping line 971: expected 1 fields, saw 2\\nSkipping line 981: expected 1 fields, saw 3\\nSkipping line 982: expected 1 fields, saw 2\\nSkipping line 986: expected 1 fields, saw 2\\nSkipping line 1013: expected 1 fields, saw 3\\nSkipping line 1014: expected 1 fields, saw 2\\nSkipping line 1015: expected 1 fields, saw 2\\nSkipping line 1018: expected 1 fields, saw 2\\nSkipping line 1023: expected 1 fields, saw 2\\nSkipping line 1024: expected 1 fields, saw 2\\nSkipping line 1026: expected 1 fields, saw 2\\nSkipping line 1039: expected 1 fields, saw 6\\nSkipping line 1044: expected 1 fields, saw 3\\nSkipping line 1046: expected 1 fields, saw 2\\nSkipping line 1050: expected 1 fields, saw 2\\nSkipping line 1051: expected 1 fields, saw 6\\nSkipping line 1054: expected 1 fields, saw 2\\nSkipping line 1065: expected 1 fields, saw 2\\nSkipping line 1079: expected 1 fields, saw 2\\nSkipping line 1092: expected 1 fields, saw 4\\nSkipping line 1098: expected 1 fields, saw 2\\nSkipping line 1099: expected 1 fields, saw 2\\nSkipping line 1100: expected 1 fields, saw 2\\nSkipping line 1116: expected 1 fields, saw 2\\nSkipping line 1128: expected 1 fields, saw 2\\nSkipping line 1129: expected 1 fields, saw 2\\nSkipping line 1131: expected 1 fields, saw 2\\nSkipping line 1132: expected 1 fields, saw 2\\nSkipping line 1133: expected 1 fields, saw 2\\nSkipping line 1135: expected 1 fields, saw 2\\nSkipping line 1145: expected 1 fields, saw 2\\nSkipping line 1161: expected 1 fields, saw 2\\nSkipping line 1165: expected 1 fields, saw 2\\nSkipping line 1171: expected 1 fields, saw 3\\nSkipping line 1178: expected 1 fields, saw 3\\nSkipping line 1206: expected 1 fields, saw 2\\nSkipping line 1209: expected 1 fields, saw 2\\nSkipping line 1224: expected 1 fields, saw 2\\nSkipping line 1243: expected 1 fields, saw 2\\nSkipping line 1283: expected 1 fields, saw 2\\nSkipping line 1319: expected 1 fields, saw 2\\nSkipping line 1399: expected 1 fields, saw 2\\nSkipping line 1400: expected 1 fields, saw 2\\nSkipping line 1401: expected 1 fields, saw 2\\nSkipping line 1404: expected 1 fields, saw 3\\nSkipping line 1417: expected 1 fields, saw 2\\nSkipping line 1438: expected 1 fields, saw 2\\nSkipping line 1450: expected 1 fields, saw 2\\nSkipping line 1454: expected 1 fields, saw 2\\nSkipping line 1459: expected 1 fields, saw 2\\nSkipping line 1463: expected 1 fields, saw 2\\nSkipping line 1465: expected 1 fields, saw 2\\nSkipping line 1466: expected 1 fields, saw 2\\nSkipping line 1472: expected 1 fields, saw 2\\nSkipping line 1473: expected 1 fields, saw 2\\nSkipping line 1474: expected 1 fields, saw 3\\nSkipping line 1475: expected 1 fields, saw 2\\nSkipping line 1482: expected 1 fields, saw 2\\nSkipping line 1497: expected 1 fields, saw 2\\nSkipping line 1498: expected 1 fields, saw 2\\nSkipping line 1520: expected 1 fields, saw 4\\nSkipping line 1532: expected 1 fields, saw 2\\nSkipping line 1533: expected 1 fields, saw 4\\nSkipping line 1534: expected 1 fields, saw 3\\nSkipping line 1536: expected 1 fields, saw 2\\nSkipping line 1538: expected 1 fields, saw 2\\nSkipping line 1541: expected 1 fields, saw 2\\nSkipping line 1542: expected 1 fields, saw 2\\nSkipping line 1547: expected 1 fields, saw 2\\nSkipping line 1548: expected 1 fields, saw 2\\nSkipping line 1602: expected 1 fields, saw 2\\nSkipping line 1603: expected 1 fields, saw 2\\nSkipping line 1604: expected 1 fields, saw 3\\nSkipping line 1624: expected 1 fields, saw 2\\nSkipping line 1625: expected 1 fields, saw 2\\nSkipping line 1626: expected 1 fields, saw 2\\nSkipping line 1627: expected 1 fields, saw 2\\nSkipping line 1631: expected 1 fields, saw 2\\nSkipping line 1688: expected 1 fields, saw 3\\nSkipping line 1689: expected 1 fields, saw 2\\nSkipping line 1690: expected 1 fields, saw 2\\nSkipping line 1691: expected 1 fields, saw 2\\nSkipping line 1692: expected 1 fields, saw 2\\nSkipping line 1693: expected 1 fields, saw 2\\nSkipping line 1696: expected 1 fields, saw 2\\nSkipping line 1697: expected 1 fields, saw 2\\nSkipping line 1699: expected 1 fields, saw 2\\nSkipping line 1700: expected 1 fields, saw 2\\nSkipping line 1702: expected 1 fields, saw 3\\nSkipping line 1721: expected 1 fields, saw 2\\nSkipping line 1722: expected 1 fields, saw 2\\nSkipping line 1724: expected 1 fields, saw 2\\nSkipping line 1726: expected 1 fields, saw 2\\nSkipping line 1732: expected 1 fields, saw 2\\nSkipping line 1763: expected 1 fields, saw 2\\nSkipping line 1775: expected 1 fields, saw 5\\nSkipping line 1828: expected 1 fields, saw 2\\nSkipping line 1852: expected 1 fields, saw 3\\nSkipping line 1865: expected 1 fields, saw 2\\nSkipping line 1875: expected 1 fields, saw 2\\nSkipping line 1890: expected 1 fields, saw 2\\nSkipping line 1893: expected 1 fields, saw 2\\nSkipping line 1903: expected 1 fields, saw 3\\nSkipping line 1916: expected 1 fields, saw 2\\nSkipping line 1925: expected 1 fields, saw 2\\nSkipping line 1948: expected 1 fields, saw 2\\nSkipping line 1949: expected 1 fields, saw 2\\nSkipping line 1987: expected 1 fields, saw 2\\nSkipping line 1988: expected 1 fields, saw 2\\nSkipping line 2024: expected 1 fields, saw 2\\nSkipping line 2100: expected 1 fields, saw 2\\nSkipping line 2161: expected 1 fields, saw 2\\nSkipping line 2243: expected 1 fields, saw 2\\nSkipping line 2244: expected 1 fields, saw 2\\nSkipping line 2246: expected 1 fields, saw 2\\nSkipping line 2247: expected 1 fields, saw 2\\nSkipping line 2283: expected 1 fields, saw 2\\nSkipping line 2411: expected 1 fields, saw 2\\nSkipping line 2412: expected 1 fields, saw 2\\nSkipping line 2500: expected 1 fields, saw 2\\nSkipping line 2517: expected 1 fields, saw 3\\nSkipping line 2841: expected 1 fields, saw 2\\nSkipping line 2842: expected 1 fields, saw 2\\nSkipping line 2843: expected 1 fields, saw 2\\nSkipping line 2844: expected 1 fields, saw 2\\nSkipping line 2845: expected 1 fields, saw 2\\nSkipping line 2846: expected 1 fields, saw 2\\nSkipping line 2847: expected 1 fields, saw 2\\nSkipping line 2863: expected 1 fields, saw 2\\nSkipping line 2864: expected 1 fields, saw 2\\nSkipping line 2869: expected 1 fields, saw 2\\nSkipping line 2888: expected 1 fields, saw 3\\nSkipping line 2957: expected 1 fields, saw 2\\nSkipping line 3017: expected 1 fields, saw 2\\nSkipping line 3018: expected 1 fields, saw 2\\nSkipping line 3058: expected 1 fields, saw 2\\nSkipping line 3122: expected 1 fields, saw 2\\nSkipping line 3178: expected 1 fields, saw 2\\nSkipping line 3186: expected 1 fields, saw 2\\nSkipping line 3204: expected 1 fields, saw 2\\nSkipping line 3292: expected 1 fields, saw 2\\nSkipping line 3376: expected 1 fields, saw 2\\nSkipping line 3377: expected 1 fields, saw 2\\nSkipping line 3390: expected 1 fields, saw 2\\nSkipping line 3396: expected 1 fields, saw 2\\nSkipping line 3423: expected 1 fields, saw 2\\nSkipping line 3437: expected 1 fields, saw 2\\nSkipping line 3441: expected 1 fields, saw 2\\nSkipping line 3443: expected 1 fields, saw 4\\nSkipping line 3466: expected 1 fields, saw 2\\nSkipping line 3493: expected 1 fields, saw 2\\nSkipping line 3519: expected 1 fields, saw 2\\nSkipping line 3529: expected 1 fields, saw 2\\nSkipping line 3536: expected 1 fields, saw 2\\nSkipping line 3547: expected 1 fields, saw 2\\nSkipping line 3551: expected 1 fields, saw 2\\nSkipping line 3555: expected 1 fields, saw 3\\nSkipping line 3556: expected 1 fields, saw 2\\nSkipping line 3562: expected 1 fields, saw 2\\nSkipping line 3574: expected 1 fields, saw 3\\nSkipping line 3578: expected 1 fields, saw 2\\nSkipping line 3588: expected 1 fields, saw 2\\nSkipping line 3659: expected 1 fields, saw 2\\nSkipping line 3674: expected 1 fields, saw 2\\nSkipping line 3679: expected 1 fields, saw 2\\nSkipping line 3692: expected 1 fields, saw 2\\nSkipping line 3694: expected 1 fields, saw 2\\nSkipping line 3729: expected 1 fields, saw 2\\nSkipping line 3730: expected 1 fields, saw 2\\nSkipping line 3734: expected 1 fields, saw 2\\nSkipping line 3754: expected 1 fields, saw 2\\nSkipping line 3759: expected 1 fields, saw 2\\nSkipping line 3763: expected 1 fields, saw 2\\nSkipping line 3777: expected 1 fields, saw 3\\nSkipping line 3793: expected 1 fields, saw 2\\nSkipping line 3797: expected 1 fields, saw 2\\nSkipping line 3811: expected 1 fields, saw 2\\nSkipping line 3817: expected 1 fields, saw 2\\nSkipping line 3823: expected 1 fields, saw 2\\nSkipping line 3826: expected 1 fields, saw 2\\nSkipping line 3827: expected 1 fields, saw 2\\nSkipping line 3832: expected 1 fields, saw 4\\nSkipping line 3836: expected 1 fields, saw 2\\nSkipping line 3855: expected 1 fields, saw 2\\nSkipping line 3889: expected 1 fields, saw 3\\nSkipping line 3906: expected 1 fields, saw 2\\nSkipping line 3909: expected 1 fields, saw 2\\nSkipping line 3913: expected 1 fields, saw 2\\nSkipping line 3914: expected 1 fields, saw 2\\nSkipping line 3923: expected 1 fields, saw 2\\nSkipping line 3926: expected 1 fields, saw 2\\nSkipping line 3948: expected 1 fields, saw 2\\nSkipping line 3960: expected 1 fields, saw 3\\nSkipping line 3983: expected 1 fields, saw 2\\nSkipping line 3994: expected 1 fields, saw 2\\nSkipping line 4003: expected 1 fields, saw 2\\nSkipping line 4004: expected 1 fields, saw 2\\nSkipping line 4010: expected 1 fields, saw 2\\nSkipping line 4012: expected 1 fields, saw 2\\nSkipping line 4014: expected 1 fields, saw 2\\nSkipping line 4018: expected 1 fields, saw 3\\nSkipping line 4021: expected 1 fields, saw 3\\nSkipping line 4023: expected 1 fields, saw 2\\nSkipping line 4039: expected 1 fields, saw 2\\nSkipping line 4040: expected 1 fields, saw 2\\nSkipping line 4041: expected 1 fields, saw 3\\nSkipping line 4059: expected 1 fields, saw 2\\nSkipping line 4071: expected 1 fields, saw 2\\nSkipping line 4093: expected 1 fields, saw 3\\nSkipping line 4094: expected 1 fields, saw 2\\nSkipping line 4127: expected 1 fields, saw 2\\nSkipping line 4130: expected 1 fields, saw 2\\nSkipping line 4147: expected 1 fields, saw 2\\nSkipping line 4150: expected 1 fields, saw 2\\nSkipping line 4152: expected 1 fields, saw 3\\nSkipping line 4156: expected 1 fields, saw 3\\nSkipping line 4158: expected 1 fields, saw 2\\nSkipping line 4165: expected 1 fields, saw 2\\nSkipping line 4168: expected 1 fields, saw 2\\nSkipping line 4172: expected 1 fields, saw 2\\nSkipping line 4211: expected 1 fields, saw 2\\nSkipping line 4217: expected 1 fields, saw 2\\nSkipping line 4381: expected 1 fields, saw 3\\nSkipping line 4382: expected 1 fields, saw 2\\nSkipping line 4408: expected 1 fields, saw 3\\nSkipping line 4409: expected 1 fields, saw 2\\nSkipping line 4410: expected 1 fields, saw 2\\nSkipping line 4412: expected 1 fields, saw 2\\nSkipping line 4423: expected 1 fields, saw 3\\nSkipping line 4458: expected 1 fields, saw 4\\nSkipping line 4481: expected 1 fields, saw 2\\nSkipping line 4490: expected 1 fields, saw 2\\nSkipping line 4493: expected 1 fields, saw 2\\nSkipping line 4517: expected 1 fields, saw 2\\nSkipping line 4520: expected 1 fields, saw 2\\nSkipping line 4541: expected 1 fields, saw 2\\nSkipping line 4542: expected 1 fields, saw 3\\nSkipping line 4580: expected 1 fields, saw 2\\nSkipping line 4618: expected 1 fields, saw 2\\nSkipping line 4903: expected 1 fields, saw 2\\nSkipping line 4912: expected 1 fields, saw 2\\nSkipping line 4919: expected 1 fields, saw 2\\nSkipping line 4923: expected 1 fields, saw 2\\nSkipping line 4948: expected 1 fields, saw 2\\nSkipping line 4957: expected 1 fields, saw 3\\n'\n"
          ],
          "name": "stderr"
        }
      ]
    },
    {
      "cell_type": "code",
      "metadata": {
        "id": "O10k7XW-V5R5",
        "colab": {
          "base_uri": "https://localhost:8080/",
          "height": 1000
        },
        "outputId": "7b05cca0-81a2-4a76-a73a-8e7e2d99c793"
      },
      "source": [
        "wiki=[]\n",
        "nu=1\n",
        "for nota in notas:\n",
        "  wiki_=[] \n",
        "  wiki_.extend(encontrar(nombres['CIVILSERVANTS '], nota, 'PER'))\n",
        "  wiki_.extend(encontrar(organizaciones['ORGANIZATIONS '], nota, 'ORG'))\n",
        "  wiki.append((nota,{'entities':wiki_}))\n",
        "  print(nu)\n",
        "  nu=nu+1"
      ],
      "execution_count": 10,
      "outputs": [
        {
          "output_type": "stream",
          "text": [
            "1\n",
            "2\n",
            "3\n",
            "4\n",
            "5\n",
            "6\n",
            "7\n",
            "8\n",
            "9\n",
            "10\n",
            "11\n",
            "12\n",
            "13\n",
            "14\n",
            "15\n",
            "16\n",
            "17\n",
            "18\n",
            "19\n",
            "20\n",
            "21\n",
            "22\n",
            "23\n",
            "24\n",
            "25\n",
            "26\n",
            "27\n",
            "28\n",
            "29\n",
            "30\n",
            "31\n",
            "32\n",
            "33\n",
            "34\n",
            "35\n",
            "36\n",
            "37\n",
            "38\n",
            "39\n",
            "40\n",
            "41\n",
            "42\n",
            "43\n",
            "44\n",
            "45\n",
            "46\n",
            "47\n",
            "48\n",
            "49\n",
            "50\n",
            "51\n",
            "52\n",
            "53\n",
            "54\n",
            "55\n",
            "56\n",
            "57\n",
            "58\n",
            "59\n",
            "60\n",
            "61\n",
            "62\n",
            "63\n",
            "64\n",
            "65\n",
            "66\n",
            "67\n",
            "68\n",
            "69\n",
            "70\n",
            "71\n",
            "72\n",
            "73\n",
            "74\n",
            "75\n",
            "76\n",
            "77\n",
            "78\n",
            "79\n",
            "80\n",
            "81\n"
          ],
          "name": "stdout"
        },
        {
          "output_type": "error",
          "ename": "RuntimeError",
          "evalue": "ignored",
          "traceback": [
            "\u001b[0;31m---------------------------------------------------------------------------\u001b[0m",
            "\u001b[0;31mStopIteration\u001b[0m                             Traceback (most recent call last)",
            "\u001b[0;32m/usr/local/lib/python3.7/dist-packages/nltk/util.py\u001b[0m in \u001b[0;36mngrams\u001b[0;34m(sequence, n, pad_left, pad_right, left_pad_symbol, right_pad_symbol)\u001b[0m\n\u001b[1;32m    467\u001b[0m     \u001b[0;32mwhile\u001b[0m \u001b[0mn\u001b[0m \u001b[0;34m>\u001b[0m \u001b[0;36m1\u001b[0m\u001b[0;34m:\u001b[0m\u001b[0;34m\u001b[0m\u001b[0;34m\u001b[0m\u001b[0m\n\u001b[0;32m--> 468\u001b[0;31m         \u001b[0mhistory\u001b[0m\u001b[0;34m.\u001b[0m\u001b[0mappend\u001b[0m\u001b[0;34m(\u001b[0m\u001b[0mnext\u001b[0m\u001b[0;34m(\u001b[0m\u001b[0msequence\u001b[0m\u001b[0;34m)\u001b[0m\u001b[0;34m)\u001b[0m\u001b[0;34m\u001b[0m\u001b[0;34m\u001b[0m\u001b[0m\n\u001b[0m\u001b[1;32m    469\u001b[0m         \u001b[0mn\u001b[0m \u001b[0;34m-=\u001b[0m \u001b[0;36m1\u001b[0m\u001b[0;34m\u001b[0m\u001b[0;34m\u001b[0m\u001b[0m\n",
            "\u001b[0;31mStopIteration\u001b[0m: ",
            "\nThe above exception was the direct cause of the following exception:\n",
            "\u001b[0;31mRuntimeError\u001b[0m                              Traceback (most recent call last)",
            "\u001b[0;32m<ipython-input-10-7130f2edde88>\u001b[0m in \u001b[0;36m<module>\u001b[0;34m()\u001b[0m\n\u001b[1;32m      4\u001b[0m   \u001b[0mwiki_\u001b[0m\u001b[0;34m=\u001b[0m\u001b[0;34m[\u001b[0m\u001b[0;34m]\u001b[0m\u001b[0;34m\u001b[0m\u001b[0;34m\u001b[0m\u001b[0m\n\u001b[1;32m      5\u001b[0m   \u001b[0mwiki_\u001b[0m\u001b[0;34m.\u001b[0m\u001b[0mextend\u001b[0m\u001b[0;34m(\u001b[0m\u001b[0mencontrar\u001b[0m\u001b[0;34m(\u001b[0m\u001b[0mnombres\u001b[0m\u001b[0;34m[\u001b[0m\u001b[0;34m'CIVILSERVANTS '\u001b[0m\u001b[0;34m]\u001b[0m\u001b[0;34m,\u001b[0m \u001b[0mnota\u001b[0m\u001b[0;34m,\u001b[0m \u001b[0;34m'PER'\u001b[0m\u001b[0;34m)\u001b[0m\u001b[0;34m)\u001b[0m\u001b[0;34m\u001b[0m\u001b[0;34m\u001b[0m\u001b[0m\n\u001b[0;32m----> 6\u001b[0;31m   \u001b[0mwiki_\u001b[0m\u001b[0;34m.\u001b[0m\u001b[0mextend\u001b[0m\u001b[0;34m(\u001b[0m\u001b[0mencontrar\u001b[0m\u001b[0;34m(\u001b[0m\u001b[0morganizaciones\u001b[0m\u001b[0;34m[\u001b[0m\u001b[0;34m'ORGANIZATIONS '\u001b[0m\u001b[0;34m]\u001b[0m\u001b[0;34m,\u001b[0m \u001b[0mnota\u001b[0m\u001b[0;34m,\u001b[0m \u001b[0;34m'ORG'\u001b[0m\u001b[0;34m)\u001b[0m\u001b[0;34m)\u001b[0m\u001b[0;34m\u001b[0m\u001b[0;34m\u001b[0m\u001b[0m\n\u001b[0m\u001b[1;32m      7\u001b[0m   \u001b[0mwiki\u001b[0m\u001b[0;34m.\u001b[0m\u001b[0mappend\u001b[0m\u001b[0;34m(\u001b[0m\u001b[0;34m(\u001b[0m\u001b[0mnota\u001b[0m\u001b[0;34m,\u001b[0m\u001b[0;34m{\u001b[0m\u001b[0;34m'entities'\u001b[0m\u001b[0;34m:\u001b[0m\u001b[0mwiki_\u001b[0m\u001b[0;34m}\u001b[0m\u001b[0;34m)\u001b[0m\u001b[0;34m)\u001b[0m\u001b[0;34m\u001b[0m\u001b[0;34m\u001b[0m\u001b[0m\n\u001b[1;32m      8\u001b[0m   \u001b[0mprint\u001b[0m\u001b[0;34m(\u001b[0m\u001b[0mnu\u001b[0m\u001b[0;34m)\u001b[0m\u001b[0;34m\u001b[0m\u001b[0;34m\u001b[0m\u001b[0m\n",
            "\u001b[0;32m<ipython-input-7-b605205bedd3>\u001b[0m in \u001b[0;36mencontrar\u001b[0;34m(palabras, text, label)\u001b[0m\n\u001b[1;32m     10\u001b[0m     \u001b[0mnum\u001b[0m\u001b[0;34m=\u001b[0m\u001b[0mlen\u001b[0m\u001b[0;34m(\u001b[0m\u001b[0mpalabra\u001b[0m\u001b[0;34m.\u001b[0m\u001b[0msplit\u001b[0m\u001b[0;34m(\u001b[0m\u001b[0;34m' '\u001b[0m\u001b[0;34m)\u001b[0m\u001b[0;34m)\u001b[0m\u001b[0;34m+\u001b[0m\u001b[0;36m1\u001b[0m\u001b[0;34m\u001b[0m\u001b[0;34m\u001b[0m\u001b[0m\n\u001b[1;32m     11\u001b[0m     \u001b[0mgrams\u001b[0m \u001b[0;34m=\u001b[0m \u001b[0mngrams\u001b[0m\u001b[0;34m(\u001b[0m\u001b[0mcopia\u001b[0m\u001b[0;34m.\u001b[0m\u001b[0msplit\u001b[0m\u001b[0;34m(\u001b[0m\u001b[0;34m' '\u001b[0m\u001b[0;34m)\u001b[0m\u001b[0;34m,\u001b[0m \u001b[0mnum\u001b[0m\u001b[0;34m)\u001b[0m\u001b[0;34m\u001b[0m\u001b[0;34m\u001b[0m\u001b[0m\n\u001b[0;32m---> 12\u001b[0;31m     \u001b[0;32mfor\u001b[0m \u001b[0mgram\u001b[0m \u001b[0;32min\u001b[0m \u001b[0mgrams\u001b[0m\u001b[0;34m:\u001b[0m\u001b[0;34m\u001b[0m\u001b[0;34m\u001b[0m\u001b[0m\n\u001b[0m\u001b[1;32m     13\u001b[0m       \u001b[0mcadena\u001b[0m\u001b[0;34m=\u001b[0m\u001b[0;34m' '\u001b[0m\u001b[0;34m.\u001b[0m\u001b[0mjoin\u001b[0m\u001b[0;34m(\u001b[0m\u001b[0mgram\u001b[0m\u001b[0;34m)\u001b[0m\u001b[0;34m\u001b[0m\u001b[0;34m\u001b[0m\u001b[0m\n\u001b[1;32m     14\u001b[0m       \u001b[0;32mif\u001b[0m \u001b[0mfuzz\u001b[0m\u001b[0;34m.\u001b[0m\u001b[0mratio\u001b[0m\u001b[0;34m(\u001b[0m\u001b[0mpalabra\u001b[0m\u001b[0;34m,\u001b[0m\u001b[0mcadena\u001b[0m\u001b[0;34m)\u001b[0m\u001b[0;34m>\u001b[0m\u001b[0;36m90\u001b[0m\u001b[0;34m:\u001b[0m\u001b[0;34m\u001b[0m\u001b[0;34m\u001b[0m\u001b[0m\n",
            "\u001b[0;31mRuntimeError\u001b[0m: generator raised StopIteration"
          ]
        }
      ]
    }
  ]
}